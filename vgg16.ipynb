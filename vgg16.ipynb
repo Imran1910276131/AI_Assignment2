{
  "nbformat": 4,
  "nbformat_minor": 0,
  "metadata": {
    "colab": {
      "provenance": [],
      "include_colab_link": true
    },
    "kernelspec": {
      "name": "python3",
      "display_name": "Python 3"
    },
    "language_info": {
      "name": "python"
    }
  },
  "cells": [
    {
      "cell_type": "markdown",
      "metadata": {
        "id": "view-in-github",
        "colab_type": "text"
      },
      "source": [
        "<a href=\"https://colab.research.google.com/github/Imran1910276131/AI_Assignment2/blob/main/vgg16.ipynb\" target=\"_parent\"><img src=\"https://colab.research.google.com/assets/colab-badge.svg\" alt=\"Open In Colab\"/></a>"
      ]
    },
    {
      "cell_type": "markdown",
      "source": [
        "#Importing all necessary library\n"
      ],
      "metadata": {
        "id": "y6NpnLgPTB4_"
      }
    },
    {
      "cell_type": "code",
      "execution_count": 5,
      "metadata": {
        "id": "rd8c_psCScy1"
      },
      "outputs": [],
      "source": [
        "from tensorflow.keras import layers,Model\n",
        "from tensorflow.keras.applications import vgg16"
      ]
    },
    {
      "cell_type": "markdown",
      "source": [
        "#Building a CNN which exactly looks like VGG16"
      ],
      "metadata": {
        "id": "G5Sw_s3LTOIq"
      }
    },
    {
      "cell_type": "markdown",
      "source": [
        "#Showing Original Model"
      ],
      "metadata": {
        "id": "LNfrXQ-ZUtQ3"
      }
    },
    {
      "cell_type": "code",
      "source": [
        "original_model=vgg16.VGG16()\n",
        "original_model.summary()"
      ],
      "metadata": {
        "colab": {
          "base_uri": "https://localhost:8080/"
        },
        "id": "DLP3AnyMUxAk",
        "outputId": "eec77536-4c63-4f51-bca8-391a25fdb197"
      },
      "execution_count": 6,
      "outputs": [
        {
          "output_type": "stream",
          "name": "stdout",
          "text": [
            "Downloading data from https://storage.googleapis.com/tensorflow/keras-applications/vgg16/vgg16_weights_tf_dim_ordering_tf_kernels.h5\n",
            "553467096/553467096 [==============================] - 6s 0us/step\n",
            "Model: \"vgg16\"\n",
            "_________________________________________________________________\n",
            " Layer (type)                Output Shape              Param #   \n",
            "=================================================================\n",
            " input_2 (InputLayer)        [(None, 224, 224, 3)]     0         \n",
            "                                                                 \n",
            " block1_conv1 (Conv2D)       (None, 224, 224, 64)      1792      \n",
            "                                                                 \n",
            " block1_conv2 (Conv2D)       (None, 224, 224, 64)      36928     \n",
            "                                                                 \n",
            " block1_pool (MaxPooling2D)  (None, 112, 112, 64)      0         \n",
            "                                                                 \n",
            " block2_conv1 (Conv2D)       (None, 112, 112, 128)     73856     \n",
            "                                                                 \n",
            " block2_conv2 (Conv2D)       (None, 112, 112, 128)     147584    \n",
            "                                                                 \n",
            " block2_pool (MaxPooling2D)  (None, 56, 56, 128)       0         \n",
            "                                                                 \n",
            " block3_conv1 (Conv2D)       (None, 56, 56, 256)       295168    \n",
            "                                                                 \n",
            " block3_conv2 (Conv2D)       (None, 56, 56, 256)       590080    \n",
            "                                                                 \n",
            " block3_conv3 (Conv2D)       (None, 56, 56, 256)       590080    \n",
            "                                                                 \n",
            " block3_pool (MaxPooling2D)  (None, 28, 28, 256)       0         \n",
            "                                                                 \n",
            " block4_conv1 (Conv2D)       (None, 28, 28, 512)       1180160   \n",
            "                                                                 \n",
            " block4_conv2 (Conv2D)       (None, 28, 28, 512)       2359808   \n",
            "                                                                 \n",
            " block4_conv3 (Conv2D)       (None, 28, 28, 512)       2359808   \n",
            "                                                                 \n",
            " block4_pool (MaxPooling2D)  (None, 14, 14, 512)       0         \n",
            "                                                                 \n",
            " block5_conv1 (Conv2D)       (None, 14, 14, 512)       2359808   \n",
            "                                                                 \n",
            " block5_conv2 (Conv2D)       (None, 14, 14, 512)       2359808   \n",
            "                                                                 \n",
            " block5_conv3 (Conv2D)       (None, 14, 14, 512)       2359808   \n",
            "                                                                 \n",
            " block5_pool (MaxPooling2D)  (None, 7, 7, 512)         0         \n",
            "                                                                 \n",
            " flatten (Flatten)           (None, 25088)             0         \n",
            "                                                                 \n",
            " fc1 (Dense)                 (None, 4096)              102764544 \n",
            "                                                                 \n",
            " fc2 (Dense)                 (None, 4096)              16781312  \n",
            "                                                                 \n",
            " predictions (Dense)         (None, 1000)              4097000   \n",
            "                                                                 \n",
            "=================================================================\n",
            "Total params: 138357544 (527.79 MB)\n",
            "Trainable params: 138357544 (527.79 MB)\n",
            "Non-trainable params: 0 (0.00 Byte)\n",
            "_________________________________________________________________\n"
          ]
        }
      ]
    },
    {
      "cell_type": "code",
      "source": [
        "inputs = layers.Input((224,224,3))\n",
        "\n",
        "x=layers.Conv2D(filters=64,kernel_size=(3,3),padding='same',activation='relu')(inputs)\n",
        "x=layers.Conv2D(filters=64,kernel_size=(3,3),padding='same',activation='relu')(x)\n",
        "x=layers.MaxPooling2D()(x)\n",
        "\n",
        "x=layers.Conv2D(filters=128,kernel_size=(3,3),padding='same',activation='relu')(x)\n",
        "x=layers.Conv2D(filters=128,kernel_size=(3,3),padding='same',activation='relu')(x)\n",
        "x=layers.MaxPooling2D()(x)\n",
        "\n",
        "x=layers.Conv2D(filters=256,kernel_size=(3,3),padding='same',activation='relu')(x)\n",
        "x=layers.Conv2D(filters=256,kernel_size=(3,3),padding='same',activation='relu')(x)\n",
        "x=layers.Conv2D(filters=256,kernel_size=(3,3),padding='same',activation='relu')(x)\n",
        "x=layers.MaxPooling2D()(x)\n",
        "\n",
        "x=layers.Conv2D(filters=512,kernel_size=(3,3),padding='same',activation='relu')(x)\n",
        "x=layers.Conv2D(filters=512,kernel_size=(3,3),padding='same',activation='relu')(x)\n",
        "x=layers.Conv2D(filters=512,kernel_size=(3,3),padding='same',activation='relu')(x)\n",
        "x=layers.MaxPooling2D()(x)\n",
        "\n",
        "x=layers.Conv2D(filters=512,kernel_size=(3,3),padding='same',activation='relu')(x)\n",
        "x=layers.Conv2D(filters=512,kernel_size=(3,3),padding='same',activation='relu')(x)\n",
        "x=layers.Conv2D(filters=512,kernel_size=(3,3),padding='same',activation='relu')(x)\n",
        "x=layers.MaxPooling2D()(x)\n",
        "\n",
        "x=layers.Flatten()(x)\n",
        "x=layers.Dense(4096)(x)\n",
        "x=layers.Dense(4096)(x)\n",
        "\n",
        "outputs=layers.Dense(1000,activation='softmax')(x)\n",
        "\n",
        "model = Model(inputs,outputs)\n",
        "\n",
        "model.summary()\n"
      ],
      "metadata": {
        "id": "CEh0qBi7S30C",
        "colab": {
          "base_uri": "https://localhost:8080/"
        },
        "outputId": "2fa07200-8528-405b-b51e-d45ba0906d62"
      },
      "execution_count": 7,
      "outputs": [
        {
          "output_type": "stream",
          "name": "stdout",
          "text": [
            "Model: \"model_1\"\n",
            "_________________________________________________________________\n",
            " Layer (type)                Output Shape              Param #   \n",
            "=================================================================\n",
            " input_3 (InputLayer)        [(None, 224, 224, 3)]     0         \n",
            "                                                                 \n",
            " conv2d_13 (Conv2D)          (None, 224, 224, 64)      1792      \n",
            "                                                                 \n",
            " conv2d_14 (Conv2D)          (None, 224, 224, 64)      36928     \n",
            "                                                                 \n",
            " max_pooling2d_5 (MaxPoolin  (None, 112, 112, 64)      0         \n",
            " g2D)                                                            \n",
            "                                                                 \n",
            " conv2d_15 (Conv2D)          (None, 112, 112, 128)     73856     \n",
            "                                                                 \n",
            " conv2d_16 (Conv2D)          (None, 112, 112, 128)     147584    \n",
            "                                                                 \n",
            " max_pooling2d_6 (MaxPoolin  (None, 56, 56, 128)       0         \n",
            " g2D)                                                            \n",
            "                                                                 \n",
            " conv2d_17 (Conv2D)          (None, 56, 56, 256)       295168    \n",
            "                                                                 \n",
            " conv2d_18 (Conv2D)          (None, 56, 56, 256)       590080    \n",
            "                                                                 \n",
            " conv2d_19 (Conv2D)          (None, 56, 56, 256)       590080    \n",
            "                                                                 \n",
            " max_pooling2d_7 (MaxPoolin  (None, 28, 28, 256)       0         \n",
            " g2D)                                                            \n",
            "                                                                 \n",
            " conv2d_20 (Conv2D)          (None, 28, 28, 512)       1180160   \n",
            "                                                                 \n",
            " conv2d_21 (Conv2D)          (None, 28, 28, 512)       2359808   \n",
            "                                                                 \n",
            " conv2d_22 (Conv2D)          (None, 28, 28, 512)       2359808   \n",
            "                                                                 \n",
            " max_pooling2d_8 (MaxPoolin  (None, 14, 14, 512)       0         \n",
            " g2D)                                                            \n",
            "                                                                 \n",
            " conv2d_23 (Conv2D)          (None, 14, 14, 512)       2359808   \n",
            "                                                                 \n",
            " conv2d_24 (Conv2D)          (None, 14, 14, 512)       2359808   \n",
            "                                                                 \n",
            " conv2d_25 (Conv2D)          (None, 14, 14, 512)       2359808   \n",
            "                                                                 \n",
            " max_pooling2d_9 (MaxPoolin  (None, 7, 7, 512)         0         \n",
            " g2D)                                                            \n",
            "                                                                 \n",
            " flatten_1 (Flatten)         (None, 25088)             0         \n",
            "                                                                 \n",
            " dense_3 (Dense)             (None, 4096)              102764544 \n",
            "                                                                 \n",
            " dense_4 (Dense)             (None, 4096)              16781312  \n",
            "                                                                 \n",
            " dense_5 (Dense)             (None, 1000)              4097000   \n",
            "                                                                 \n",
            "=================================================================\n",
            "Total params: 138357544 (527.79 MB)\n",
            "Trainable params: 138357544 (527.79 MB)\n",
            "Non-trainable params: 0 (0.00 Byte)\n",
            "_________________________________________________________________\n"
          ]
        }
      ]
    },
    {
      "cell_type": "markdown",
      "source": [
        "#Transfering weights of pre-trained VGG16 to the newly built VGG16."
      ],
      "metadata": {
        "id": "Ptsp7UHqT3MC"
      }
    },
    {
      "cell_type": "code",
      "source": [
        "for index in range(len(original_model.layers)):\n",
        "  model.layers[index].set_weights(original_model.layers[index].get_weights())"
      ],
      "metadata": {
        "id": "GifkkwZX8ski"
      },
      "execution_count": 10,
      "outputs": []
    },
    {
      "cell_type": "markdown",
      "source": [
        "#Building a CNN which will exactly look like Original VGG16 but not exactly same with the given conditions"
      ],
      "metadata": {
        "id": "INInqpznXI6s"
      }
    },
    {
      "cell_type": "markdown",
      "source": [
        "#Importing all necessary libraries"
      ],
      "metadata": {
        "id": "tIcclIavXrwt"
      }
    },
    {
      "cell_type": "code",
      "source": [
        "import numpy as np\n",
        "import matplotlib.pyplot as plt\n",
        "from tensorflow.keras import layers,Model\n",
        "from tensorflow.keras.applications import vgg16"
      ],
      "metadata": {
        "id": "gwKYEdf6Xqel"
      },
      "execution_count": 15,
      "outputs": []
    },
    {
      "cell_type": "markdown",
      "source": [
        "#Building the new CNN model"
      ],
      "metadata": {
        "id": "RlWLhYtLYANz"
      }
    },
    {
      "cell_type": "code",
      "source": [
        "inputs = layers.Input((512,512,3))\n",
        "\n",
        "x=layers.Conv2D(filters=64,kernel_size=(3,3),padding='same',activation='relu')(inputs)\n",
        "x=layers.Conv2D(filters=64,kernel_size=(3,3),padding='same',activation='relu')(x)\n",
        "x=layers.MaxPooling2D()(x)\n",
        "\n",
        "\n",
        "x=layers.Conv2D(filters=128,kernel_size=(3,3),padding='same',activation='relu')(x)\n",
        "x=layers.Conv2D(filters=128,kernel_size=(3,3),padding='same',activation='relu')(x)\n",
        "x=layers.Conv2D(filters=128,kernel_size=(3,3),padding='same',activation='relu')(x)\n",
        "x=layers.MaxPooling2D()(x)\n",
        "\n",
        "\n",
        "x=layers.Conv2D(filters=128,kernel_size=(3,3),padding='same',activation='relu')(x)\n",
        "x=layers.Conv2D(filters=128,kernel_size=(3,3),padding='same',activation='relu')(x)\n",
        "x=layers.MaxPooling2D()(x)\n",
        "\n",
        "x=layers.Conv2D(filters=256,kernel_size=(3,3),padding='same',activation='relu')(x)\n",
        "x=layers.Conv2D(filters=256,kernel_size=(3,3),padding='same',activation='relu')(x)\n",
        "x=layers.Conv2D(filters=256,kernel_size=(3,3),padding='same',activation='relu')(x)\n",
        "x=layers.MaxPooling2D()(x)\n",
        "\n",
        "x=layers.Conv2D(filters=512,kernel_size=(3,3),padding='same',activation='relu')(x)\n",
        "x=layers.Conv2D(filters=512,kernel_size=(3,3),padding='same',activation='relu')(x)\n",
        "x=layers.Conv2D(filters=512,kernel_size=(3,3),padding='same',activation='relu')(x)\n",
        "x=layers.Conv2D(filters=512,kernel_size=(3,3),padding='same',activation='relu')(x)\n",
        "x=layers.MaxPooling2D()(x)\n",
        "\n",
        "x=layers.GlobalMaxPooling2D()(x)\n",
        "x=layers.Dense(1024)(x)\n",
        "x=layers.Dense(1024)(x)\n",
        "\n",
        "\n",
        "outputs=layers.Dense(10,activation='softmax')(x)\n",
        "\n",
        "model = Model(inputs,outputs)\n",
        "\n",
        "model.summary()"
      ],
      "metadata": {
        "colab": {
          "base_uri": "https://localhost:8080/"
        },
        "id": "908TOQtGYEpz",
        "outputId": "358acac9-abd3-43dd-e011-b67c0747f296"
      },
      "execution_count": 20,
      "outputs": [
        {
          "output_type": "stream",
          "name": "stdout",
          "text": [
            "Model: \"model_5\"\n",
            "_________________________________________________________________\n",
            " Layer (type)                Output Shape              Param #   \n",
            "=================================================================\n",
            " input_11 (InputLayer)       [(None, 512, 512, 3)]     0         \n",
            "                                                                 \n",
            " conv2d_118 (Conv2D)         (None, 512, 512, 64)      1792      \n",
            "                                                                 \n",
            " conv2d_119 (Conv2D)         (None, 512, 512, 64)      36928     \n",
            "                                                                 \n",
            " max_pooling2d_45 (MaxPooli  (None, 256, 256, 64)      0         \n",
            " ng2D)                                                           \n",
            "                                                                 \n",
            " conv2d_120 (Conv2D)         (None, 256, 256, 128)     73856     \n",
            "                                                                 \n",
            " conv2d_121 (Conv2D)         (None, 256, 256, 128)     147584    \n",
            "                                                                 \n",
            " conv2d_122 (Conv2D)         (None, 256, 256, 128)     147584    \n",
            "                                                                 \n",
            " max_pooling2d_46 (MaxPooli  (None, 128, 128, 128)     0         \n",
            " ng2D)                                                           \n",
            "                                                                 \n",
            " conv2d_123 (Conv2D)         (None, 128, 128, 128)     147584    \n",
            "                                                                 \n",
            " conv2d_124 (Conv2D)         (None, 128, 128, 128)     147584    \n",
            "                                                                 \n",
            " max_pooling2d_47 (MaxPooli  (None, 64, 64, 128)       0         \n",
            " ng2D)                                                           \n",
            "                                                                 \n",
            " conv2d_125 (Conv2D)         (None, 64, 64, 256)       295168    \n",
            "                                                                 \n",
            " conv2d_126 (Conv2D)         (None, 64, 64, 256)       590080    \n",
            "                                                                 \n",
            " conv2d_127 (Conv2D)         (None, 64, 64, 256)       590080    \n",
            "                                                                 \n",
            " max_pooling2d_48 (MaxPooli  (None, 32, 32, 256)       0         \n",
            " ng2D)                                                           \n",
            "                                                                 \n",
            " conv2d_128 (Conv2D)         (None, 32, 32, 512)       1180160   \n",
            "                                                                 \n",
            " conv2d_129 (Conv2D)         (None, 32, 32, 512)       2359808   \n",
            "                                                                 \n",
            " conv2d_130 (Conv2D)         (None, 32, 32, 512)       2359808   \n",
            "                                                                 \n",
            " conv2d_131 (Conv2D)         (None, 32, 32, 512)       2359808   \n",
            "                                                                 \n",
            " max_pooling2d_49 (MaxPooli  (None, 16, 16, 512)       0         \n",
            " ng2D)                                                           \n",
            "                                                                 \n",
            " global_max_pooling2d_2 (Gl  (None, 512)               0         \n",
            " obalMaxPooling2D)                                               \n",
            "                                                                 \n",
            " dense_15 (Dense)            (None, 1024)              525312    \n",
            "                                                                 \n",
            " dense_16 (Dense)            (None, 1024)              1049600   \n",
            "                                                                 \n",
            " dense_17 (Dense)            (None, 10)                10250     \n",
            "                                                                 \n",
            "=================================================================\n",
            "Total params: 12022986 (45.86 MB)\n",
            "Trainable params: 12022986 (45.86 MB)\n",
            "Non-trainable params: 0 (0.00 Byte)\n",
            "_________________________________________________________________\n"
          ]
        }
      ]
    }
  ]
}